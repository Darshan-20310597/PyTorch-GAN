{
  "nbformat": 4,
  "nbformat_minor": 0,
  "metadata": {
    "colab": {
      "name": "First_CNN_CIRFAR10.ipynb",
      "provenance": [],
      "collapsed_sections": [],
      "authorship_tag": "ABX9TyPOqNZM8bVBEpGFpj+g2R/Q",
      "include_colab_link": true
    },
    "kernelspec": {
      "name": "python3",
      "display_name": "Python 3"
    },
    "language_info": {
      "name": "python"
    },
    "accelerator": "GPU"
  },
  "cells": [
    {
      "cell_type": "markdown",
      "metadata": {
        "id": "view-in-github",
        "colab_type": "text"
      },
      "source": [
        "<a href=\"https://colab.research.google.com/github/Darshan-20310597/PyTorch-GAN/blob/master/First_CNN_CIRFAR10.ipynb\" target=\"_parent\"><img src=\"https://colab.research.google.com/assets/colab-badge.svg\" alt=\"Open In Colab\"/></a>"
      ]
    },
    {
      "cell_type": "code",
      "metadata": {
        "id": "0lXol_BcVidk"
      },
      "source": [
        "import torch\n",
        "import torch.nn as nn\n",
        "import torch.nn.functional as F\n",
        "import torchvision\n",
        "import torchvision.transforms as transforms\n",
        "import matplotlib.pyplot as plt\n",
        "import numpy as np"
      ],
      "execution_count": 3,
      "outputs": []
    },
    {
      "cell_type": "code",
      "metadata": {
        "id": "UFOPk_r6VqZK"
      },
      "source": [
        "# Device configuration\n",
        "device = torch.device('cuda' if torch.cuda.is_available() else 'cpu')\n",
        "\n",
        "# Hyper-parameters \n",
        "num_epochs = 20\n",
        "batch_size = 10 #4\n",
        "learning_rate = 0.001\n"
      ],
      "execution_count": 31,
      "outputs": []
    },
    {
      "cell_type": "markdown",
      "metadata": {
        "id": "g5OEGx1afw_u"
      },
      "source": [
        "The number of iteration per epoch is calculated by number_of_samples / batch_size.\n",
        "So if you have 1280 samples in your Dataset and set a batch_size=128, your DataLoader will return 10 batches à 128 samples. Therefore the iterations will increase by 10.\n",
        "As a small side note: the last batch might be smaller if drop_last=False in your DataLoader, if the division returns a remainder."
      ]
    },
    {
      "cell_type": "code",
      "metadata": {
        "colab": {
          "base_uri": "https://localhost:8080/"
        },
        "id": "6eX0XML8Vq8Z",
        "outputId": "16db94ab-8cc4-405a-f748-a9b1b3e6bc87"
      },
      "source": [
        "transform = transforms.Compose(\n",
        "    [transforms.ToTensor(),\n",
        "     transforms.Normalize((0.5, 0.5, 0.5), (0.5, 0.5, 0.5))])\n",
        "\n",
        "# CIFAR10: 60000 32x32 color images in 10 classes, with 6000 images per class\n",
        "train_dataset = torchvision.datasets.CIFAR10(root='./data', train=True,\n",
        "                                        download=True, transform=transform)\n",
        "\n",
        "test_dataset = torchvision.datasets.CIFAR10(root='./data', train=False,\n",
        "                                       download=True, transform=transform)\n",
        "\n",
        "train_loader = torch.utils.data.DataLoader(train_dataset, batch_size=batch_size,\n",
        "                                          shuffle=True)\n",
        "\n",
        "test_loader = torch.utils.data.DataLoader(test_dataset, batch_size=batch_size,\n",
        "                                         shuffle=False)"
      ],
      "execution_count": 45,
      "outputs": [
        {
          "output_type": "stream",
          "text": [
            "Files already downloaded and verified\n",
            "Files already downloaded and verified\n"
          ],
          "name": "stdout"
        }
      ]
    },
    {
      "cell_type": "code",
      "metadata": {
        "colab": {
          "base_uri": "https://localhost:8080/"
        },
        "id": "5jCnHMXcV__a",
        "outputId": "4b04c1a6-10bc-4b42-dcb1-1556c19c40eb"
      },
      "source": [
        "train_dataset.classes"
      ],
      "execution_count": 8,
      "outputs": [
        {
          "output_type": "execute_result",
          "data": {
            "text/plain": [
              "['airplane',\n",
              " 'automobile',\n",
              " 'bird',\n",
              " 'cat',\n",
              " 'deer',\n",
              " 'dog',\n",
              " 'frog',\n",
              " 'horse',\n",
              " 'ship',\n",
              " 'truck']"
            ]
          },
          "metadata": {
            "tags": []
          },
          "execution_count": 8
        }
      ]
    },
    {
      "cell_type": "code",
      "metadata": {
        "id": "8ZFwdieLWCOl"
      },
      "source": [
        "classes = ('plane', 'car', 'bird', 'cat',\n",
        "           'deer', 'dog', 'frog', 'horse', 'ship', 'truck')"
      ],
      "execution_count": 7,
      "outputs": []
    },
    {
      "cell_type": "code",
      "metadata": {
        "id": "A9NOKYHNWDF-"
      },
      "source": [
        "def imshow(img):\n",
        "    img = img / 2 + 0.5  # unnormalize\n",
        "    npimg = img.numpy()\n",
        "    plt.imshow(np.transpose(npimg, (1, 2, 0)))\n",
        "    plt.show()\n",
        "\n",
        "\n",
        "# get some random training images\n"
      ],
      "execution_count": 12,
      "outputs": []
    },
    {
      "cell_type": "code",
      "metadata": {
        "id": "xeBVcvqFWLqO"
      },
      "source": [
        "dataiter = iter(train_loader)\n",
        "images, labels = dataiter.next()"
      ],
      "execution_count": 13,
      "outputs": []
    },
    {
      "cell_type": "code",
      "metadata": {
        "colab": {
          "base_uri": "https://localhost:8080/",
          "height": 138
        },
        "id": "ZxpDAIIaWORT",
        "outputId": "77c97ea0-3ded-4ddc-f5e4-ca7d9b00276f"
      },
      "source": [
        "# show images\n",
        "imshow(torchvision.utils.make_grid(images))"
      ],
      "execution_count": 14,
      "outputs": [
        {
          "output_type": "display_data",
          "data": {
            "image/png": "[encoded data removed]",
            "text/plain": [
              "<Figure size 432x288 with 1 Axes>"
            ]
          },
          "metadata": {
            "tags": [],
            "needs_background": "light"
          }
        }
      ]
    },
    {
      "cell_type": "code",
      "metadata": {
        "id": "sVijJyPfWSMF"
      },
      "source": [
        "class ConvNet(nn.Module):\n",
        "    def __init__(self):\n",
        "        super(ConvNet, self).__init__()\n",
        "        # self.conv1 = nn.Conv2d(3, 6, 5)\n",
        "        # self.pool = nn.MaxPool2d(2, 2)\n",
        "        # self.conv2 = nn.Conv2d(6, 16, 5)\n",
        "        # self.fc1 = nn.Linear(16 * 5 * 5, 120)\n",
        "        # self.fc2 = nn.Linear(120, 84)\n",
        "        # self.fc3 = nn.Linear(84, 10)\n",
        "        self.conv1 = nn.Conv2d(3, 10, 5)\n",
        "        self.pool = nn.MaxPool2d(2, 2)\n",
        "        self.conv2 = nn.Conv2d(10, 20, 5)\n",
        "        self.fc1 = nn.Linear(20 * 5 * 5, 128)\n",
        "        self.fc2 = nn.Linear(128, 64)\n",
        "        self.fc3 = nn.Linear(64, 10)\n",
        "\n",
        "    def forward(self, x):\n",
        "        # -> n, 3, 32, 32\n",
        "        x = self.pool(F.relu(self.conv1(x)))  # -> n, 6, 14, 14\n",
        "        x = self.pool(F.relu(self.conv2(x)))  # -> n, 16, 5, 5\n",
        "        #x = x.view(-1, 16 * 5 * 5)            # -> n, 400\n",
        "        x = x.view(-1, 20 * 5 * 5) \n",
        "        x = F.relu(self.fc1(x))               # -> n, 120\n",
        "        x = F.relu(self.fc2(x))               # -> n, 84\n",
        "        x = self.fc3(x)                       # -> n, 10\n",
        "        return x"
      ],
      "execution_count": 34,
      "outputs": []
    },
    {
      "cell_type": "code",
      "metadata": {
        "colab": {
          "base_uri": "https://localhost:8080/"
        },
        "id": "Mx3n_u_xWb3P",
        "outputId": "cfc309af-88c8-4861-f913-e3812e7327da"
      },
      "source": [
        "model = ConvNet().to(device)\n",
        "model\n"
      ],
      "execution_count": 35,
      "outputs": [
        {
          "output_type": "execute_result",
          "data": {
            "text/plain": [
              "ConvNet(\n",
              "  (conv1): Conv2d(3, 10, kernel_size=(5, 5), stride=(1, 1))\n",
              "  (pool): MaxPool2d(kernel_size=2, stride=2, padding=0, dilation=1, ceil_mode=False)\n",
              "  (conv2): Conv2d(10, 20, kernel_size=(5, 5), stride=(1, 1))\n",
              "  (fc1): Linear(in_features=500, out_features=128, bias=True)\n",
              "  (fc2): Linear(in_features=128, out_features=64, bias=True)\n",
              "  (fc3): Linear(in_features=64, out_features=10, bias=True)\n",
              ")"
            ]
          },
          "metadata": {
            "tags": []
          },
          "execution_count": 35
        }
      ]
    },
    {
      "cell_type": "code",
      "metadata": {
        "id": "9tQK69EHXcvP"
      },
      "source": [
        "criterion = nn.CrossEntropyLoss()\n",
        "optimizer = torch.optim.SGD(model.parameters(), lr=learning_rate)"
      ],
      "execution_count": 36,
      "outputs": []
    },
    {
      "cell_type": "code",
      "metadata": {
        "colab": {
          "base_uri": "https://localhost:8080/"
        },
        "id": "W2sOvqg9XjsB",
        "outputId": "6984fa9f-3830-4094-a6d4-d737502179ce"
      },
      "source": [
        "n_total_steps = len(train_loader)\n",
        "for epoch in range(num_epochs):\n",
        "    for i, (images, labels) in enumerate(train_loader):\n",
        "        # origin shape: [4, 3, 32, 32] = 4, 3, 1024\n",
        "        # input_layer: 3 input channels, 6 output channels, 5 kernel size\n",
        "        images = images.to(device)\n",
        "        labels = labels.to(device)\n",
        "\n",
        "        # Forward pass\n",
        "        outputs = model(images)\n",
        "        loss = criterion(outputs, labels)\n",
        "\n",
        "        # Backward and optimize\n",
        "        optimizer.zero_grad()\n",
        "        loss.backward()\n",
        "        optimizer.step()\n",
        "\n",
        "        if (i+1) % 2000 == 0:\n",
        "            print (f'Epoch [{epoch+1}/{num_epochs}], Step [{i+1}/{n_total_steps}], Loss: {loss.item():.4f}')\n",
        "print('Finished Training')"
      ],
      "execution_count": 37,
      "outputs": [
        {
          "output_type": "stream",
          "text": [
            "Epoch [1/20], Step [2000/12500], Loss: 2.2851\n",
            "Epoch [1/20], Step [4000/12500], Loss: 2.2604\n",
            "Epoch [1/20], Step [6000/12500], Loss: 2.3017\n",
            "Epoch [1/20], Step [8000/12500], Loss: 2.2933\n",
            "Epoch [1/20], Step [10000/12500], Loss: 2.1849\n",
            "Epoch [1/20], Step [12000/12500], Loss: 1.8321\n",
            "Epoch [2/20], Step [2000/12500], Loss: 1.9555\n",
            "Epoch [2/20], Step [4000/12500], Loss: 1.3819\n",
            "Epoch [2/20], Step [6000/12500], Loss: 1.6765\n",
            "Epoch [2/20], Step [8000/12500], Loss: 1.4822\n",
            "Epoch [2/20], Step [10000/12500], Loss: 1.8260\n",
            "Epoch [2/20], Step [12000/12500], Loss: 1.7911\n",
            "Epoch [3/20], Step [2000/12500], Loss: 1.3573\n",
            "Epoch [3/20], Step [4000/12500], Loss: 1.4993\n",
            "Epoch [3/20], Step [6000/12500], Loss: 1.3391\n",
            "Epoch [3/20], Step [8000/12500], Loss: 1.8459\n",
            "Epoch [3/20], Step [10000/12500], Loss: 1.5832\n",
            "Epoch [3/20], Step [12000/12500], Loss: 1.6851\n",
            "Epoch [4/20], Step [2000/12500], Loss: 1.9570\n",
            "Epoch [4/20], Step [4000/12500], Loss: 0.9320\n",
            "Epoch [4/20], Step [6000/12500], Loss: 2.0248\n",
            "Epoch [4/20], Step [8000/12500], Loss: 1.7984\n",
            "Epoch [4/20], Step [10000/12500], Loss: 1.8832\n",
            "Epoch [4/20], Step [12000/12500], Loss: 0.9432\n",
            "Epoch [5/20], Step [2000/12500], Loss: 0.6163\n",
            "Epoch [5/20], Step [4000/12500], Loss: 0.9351\n",
            "Epoch [5/20], Step [6000/12500], Loss: 1.1694\n",
            "Epoch [5/20], Step [8000/12500], Loss: 0.3297\n",
            "Epoch [5/20], Step [10000/12500], Loss: 1.1451\n",
            "Epoch [5/20], Step [12000/12500], Loss: 1.0003\n",
            "Epoch [6/20], Step [2000/12500], Loss: 0.5353\n",
            "Epoch [6/20], Step [4000/12500], Loss: 0.9134\n",
            "Epoch [6/20], Step [6000/12500], Loss: 1.0611\n",
            "Epoch [6/20], Step [8000/12500], Loss: 1.9002\n",
            "Epoch [6/20], Step [10000/12500], Loss: 0.9178\n",
            "Epoch [6/20], Step [12000/12500], Loss: 0.5224\n",
            "Epoch [7/20], Step [2000/12500], Loss: 1.1085\n",
            "Epoch [7/20], Step [4000/12500], Loss: 1.4230\n",
            "Epoch [7/20], Step [6000/12500], Loss: 0.6566\n",
            "Epoch [7/20], Step [8000/12500], Loss: 1.7924\n",
            "Epoch [7/20], Step [10000/12500], Loss: 1.4303\n",
            "Epoch [7/20], Step [12000/12500], Loss: 1.6424\n",
            "Epoch [8/20], Step [2000/12500], Loss: 1.3612\n",
            "Epoch [8/20], Step [4000/12500], Loss: 1.7151\n",
            "Epoch [8/20], Step [6000/12500], Loss: 1.9106\n",
            "Epoch [8/20], Step [8000/12500], Loss: 0.9311\n",
            "Epoch [8/20], Step [10000/12500], Loss: 1.0573\n",
            "Epoch [8/20], Step [12000/12500], Loss: 0.7729\n",
            "Epoch [9/20], Step [2000/12500], Loss: 1.5956\n",
            "Epoch [9/20], Step [4000/12500], Loss: 0.7559\n",
            "Epoch [9/20], Step [6000/12500], Loss: 0.9093\n",
            "Epoch [9/20], Step [8000/12500], Loss: 1.8174\n",
            "Epoch [9/20], Step [10000/12500], Loss: 2.7027\n",
            "Epoch [9/20], Step [12000/12500], Loss: 0.4595\n",
            "Epoch [10/20], Step [2000/12500], Loss: 0.6311\n",
            "Epoch [10/20], Step [4000/12500], Loss: 1.3096\n",
            "Epoch [10/20], Step [6000/12500], Loss: 0.7453\n",
            "Epoch [10/20], Step [8000/12500], Loss: 0.2492\n",
            "Epoch [10/20], Step [10000/12500], Loss: 1.2939\n",
            "Epoch [10/20], Step [12000/12500], Loss: 0.3255\n",
            "Epoch [11/20], Step [2000/12500], Loss: 1.0034\n",
            "Epoch [11/20], Step [4000/12500], Loss: 0.3385\n",
            "Epoch [11/20], Step [6000/12500], Loss: 0.7440\n",
            "Epoch [11/20], Step [8000/12500], Loss: 0.8884\n",
            "Epoch [11/20], Step [10000/12500], Loss: 0.9979\n",
            "Epoch [11/20], Step [12000/12500], Loss: 1.8304\n",
            "Epoch [12/20], Step [2000/12500], Loss: 1.4236\n",
            "Epoch [12/20], Step [4000/12500], Loss: 0.6511\n",
            "Epoch [12/20], Step [6000/12500], Loss: 1.7721\n",
            "Epoch [12/20], Step [8000/12500], Loss: 1.7298\n",
            "Epoch [12/20], Step [10000/12500], Loss: 0.8406\n",
            "Epoch [12/20], Step [12000/12500], Loss: 0.5859\n",
            "Epoch [13/20], Step [2000/12500], Loss: 1.1428\n",
            "Epoch [13/20], Step [4000/12500], Loss: 0.5608\n",
            "Epoch [13/20], Step [6000/12500], Loss: 1.9796\n",
            "Epoch [13/20], Step [8000/12500], Loss: 2.2899\n",
            "Epoch [13/20], Step [10000/12500], Loss: 0.7348\n",
            "Epoch [13/20], Step [12000/12500], Loss: 1.0260\n",
            "Epoch [14/20], Step [2000/12500], Loss: 0.2351\n",
            "Epoch [14/20], Step [4000/12500], Loss: 0.6262\n",
            "Epoch [14/20], Step [6000/12500], Loss: 0.7232\n",
            "Epoch [14/20], Step [8000/12500], Loss: 1.1979\n",
            "Epoch [14/20], Step [10000/12500], Loss: 0.3173\n",
            "Epoch [14/20], Step [12000/12500], Loss: 0.2432\n",
            "Epoch [15/20], Step [2000/12500], Loss: 0.5518\n",
            "Epoch [15/20], Step [4000/12500], Loss: 2.5260\n",
            "Epoch [15/20], Step [6000/12500], Loss: 0.3063\n",
            "Epoch [15/20], Step [8000/12500], Loss: 0.3830\n",
            "Epoch [15/20], Step [10000/12500], Loss: 0.3941\n",
            "Epoch [15/20], Step [12000/12500], Loss: 0.9750\n",
            "Epoch [16/20], Step [2000/12500], Loss: 0.4677\n",
            "Epoch [16/20], Step [4000/12500], Loss: 1.5817\n",
            "Epoch [16/20], Step [6000/12500], Loss: 0.2249\n",
            "Epoch [16/20], Step [8000/12500], Loss: 0.9317\n",
            "Epoch [16/20], Step [10000/12500], Loss: 1.0479\n",
            "Epoch [16/20], Step [12000/12500], Loss: 1.3477\n",
            "Epoch [17/20], Step [2000/12500], Loss: 0.6658\n",
            "Epoch [17/20], Step [4000/12500], Loss: 1.2056\n",
            "Epoch [17/20], Step [6000/12500], Loss: 0.4125\n",
            "Epoch [17/20], Step [8000/12500], Loss: 1.2435\n",
            "Epoch [17/20], Step [10000/12500], Loss: 0.1555\n",
            "Epoch [17/20], Step [12000/12500], Loss: 0.2980\n",
            "Epoch [18/20], Step [2000/12500], Loss: 0.1554\n",
            "Epoch [18/20], Step [4000/12500], Loss: 0.3229\n",
            "Epoch [18/20], Step [6000/12500], Loss: 0.5139\n",
            "Epoch [18/20], Step [8000/12500], Loss: 0.2763\n",
            "Epoch [18/20], Step [10000/12500], Loss: 1.6043\n",
            "Epoch [18/20], Step [12000/12500], Loss: 0.8367\n",
            "Epoch [19/20], Step [2000/12500], Loss: 0.7233\n",
            "Epoch [19/20], Step [4000/12500], Loss: 0.8657\n",
            "Epoch [19/20], Step [6000/12500], Loss: 1.9651\n",
            "Epoch [19/20], Step [8000/12500], Loss: 0.8831\n",
            "Epoch [19/20], Step [10000/12500], Loss: 0.2001\n",
            "Epoch [19/20], Step [12000/12500], Loss: 1.2042\n",
            "Epoch [20/20], Step [2000/12500], Loss: 1.4370\n",
            "Epoch [20/20], Step [4000/12500], Loss: 0.4086\n",
            "Epoch [20/20], Step [6000/12500], Loss: 1.4697\n",
            "Epoch [20/20], Step [8000/12500], Loss: 0.1699\n",
            "Epoch [20/20], Step [10000/12500], Loss: 1.6600\n",
            "Epoch [20/20], Step [12000/12500], Loss: 0.5619\n",
            "Finished Training\n"
          ],
          "name": "stdout"
        }
      ]
    },
    {
      "cell_type": "code",
      "metadata": {
        "id": "MfrY3jLHXoRM"
      },
      "source": [
        "PATH = './cnn.pth'\n",
        "torch.save(model.state_dict(), PATH)"
      ],
      "execution_count": 38,
      "outputs": []
    },
    {
      "cell_type": "code",
      "metadata": {
        "colab": {
          "base_uri": "https://localhost:8080/"
        },
        "id": "vnF7OIwBacN8",
        "outputId": "f04dda45-6aa8-4b80-a4a2-cd3d5d6f4455"
      },
      "source": [
        "with torch.no_grad():\n",
        "    n_correct = 0\n",
        "    n_samples = 0\n",
        "    n_class_correct = [0 for i in range(20)]\n",
        "    n_class_samples = [0 for i in range(20)]\n",
        "    for images, labels in test_loader:\n",
        "        images = images.to(device)\n",
        "        labels = labels.to(device)\n",
        "        outputs = model(images)\n",
        "        # max returns (value ,index)\n",
        "        _, predicted = torch.max(outputs, 1)\n",
        "        n_samples += labels.size(0)\n",
        "        n_correct += (predicted == labels).sum().item()\n",
        "        \n",
        "        for i in range(batch_size):\n",
        "            label = labels[i]\n",
        "            pred = predicted[i]\n",
        "            if (label == pred):\n",
        "                n_class_correct[label] += 1\n",
        "            n_class_samples[label] += 1\n",
        "\n",
        "    acc = 100.0 * n_correct / n_samples\n",
        "    print(f'Accuracy of the network: {acc} %')"
      ],
      "execution_count": 46,
      "outputs": [
        {
          "output_type": "stream",
          "text": [
            "Accuracy of the network: 65.85 %\n"
          ],
          "name": "stdout"
        }
      ]
    },
    {
      "cell_type": "code",
      "metadata": {
        "colab": {
          "base_uri": "https://localhost:8080/"
        },
        "id": "0XPqpD8Sacrb",
        "outputId": "cc6de3de-52a2-4a2a-f145-1b17fbdf7828"
      },
      "source": [
        "    for i in range(10):\n",
        "        acc = 100.0 * n_class_correct[i] / n_class_samples[i]\n",
        "        print(f'Accuracy of {classes[i]}: {acc} %')"
      ],
      "execution_count": 43,
      "outputs": [
        {
          "output_type": "stream",
          "text": [
            "Accuracy of plane: 68.6 %\n",
            "Accuracy of car: 69.1 %\n",
            "Accuracy of bird: 59.5 %\n",
            "Accuracy of cat: 38.6 %\n",
            "Accuracy of deer: 61.0 %\n",
            "Accuracy of dog: 57.7 %\n",
            "Accuracy of frog: 69.3 %\n",
            "Accuracy of horse: 69.6 %\n",
            "Accuracy of ship: 83.4 %\n",
            "Accuracy of truck: 81.7 %\n"
          ],
          "name": "stdout"
        }
      ]
    },
    {
      "cell_type": "code",
      "metadata": {
        "id": "BNqKsrnYagkL"
      },
      "source": [
        ""
      ],
      "execution_count": null,
      "outputs": []
    }
  ]
}